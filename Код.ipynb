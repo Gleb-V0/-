{
 "cells": [
  {
   "cell_type": "markdown",
   "id": "826f0d0a-80d6-42bb-b516-20c4e96834d5",
   "metadata": {},
   "source": [
    "Вам дан игровой датасет по игрокам FIFA21_official_data.csv. Оставим только игроков с известными показателями из списка: - Имя (Name) - Возраст (Age) - Вес (Weight) - Роcт (Height) - Тотал (Overall)\n",
    "\n",
    "Для начала необходимо найти показатель BMI (Индекс массы тела). Добавьте этот показатель отдельным столбцом в датасет. Также рассчитайте метрику Normality как корень квадратный из суммы квадратов отклонений и также добавьте в датасет.\n",
    "\n",
    "Самым обычным человеком будем считать такого человека, чьи отклонения от средних показателей по всем вышеперечисленным метрикам (включая BMI и Normality, но исключая Имя) минимальны.\n",
    "\n",
    "Формат ввода\n",
    "На вход функции process(df) поступает датафрейм, полученный из датасета FIFA21_official_data.csv.\n",
    "\n",
    "Формат вывода\n",
    "Файл solution.py с вашим решением должен содержать только функцию process. Функция process должна вернуть датафрейм, содержащий ТОП-3 самых “обычных” футболистов, отсортированных в порядке увеличения суммарной метрики.\n",
    "\n",
    "Примечания\n",
    "Внимательно изучите форматы данных столбцов исходного датасета и при необходимости выполните соответствующие преобразования."
   ]
  },
  {
   "cell_type": "code",
   "execution_count": 82,
   "id": "330af1cc-4ea5-4d30-8595-41ceba785a84",
   "metadata": {},
   "outputs": [],
   "source": [
    "data = pd.read_csv(\"C:/Users/glebv/Desktop/Файлы яндекс лицей/FIFA21_official_data.csv\")"
   ]
  },
  {
   "cell_type": "code",
   "execution_count": 116,
   "id": "34a425a3-1bb6-40d1-a178-5ee21d830eb6",
   "metadata": {},
   "outputs": [
    {
     "data": {
      "text/html": [
       "<div>\n",
       "<style scoped>\n",
       "    .dataframe tbody tr th:only-of-type {\n",
       "        vertical-align: middle;\n",
       "    }\n",
       "\n",
       "    .dataframe tbody tr th {\n",
       "        vertical-align: top;\n",
       "    }\n",
       "\n",
       "    .dataframe thead th {\n",
       "        text-align: right;\n",
       "    }\n",
       "</style>\n",
       "<table border=\"1\" class=\"dataframe\">\n",
       "  <thead>\n",
       "    <tr style=\"text-align: right;\">\n",
       "      <th></th>\n",
       "      <th>Name</th>\n",
       "      <th>Age</th>\n",
       "      <th>Weight</th>\n",
       "      <th>Height</th>\n",
       "      <th>Overall</th>\n",
       "      <th>BMI</th>\n",
       "      <th>Normality</th>\n",
       "    </tr>\n",
       "  </thead>\n",
       "  <tbody>\n",
       "    <tr>\n",
       "      <th>0</th>\n",
       "      <td>Manu Trigueros</td>\n",
       "      <td>28</td>\n",
       "      <td>74.842680</td>\n",
       "      <td>177.8</td>\n",
       "      <td>78</td>\n",
       "      <td>23.674773</td>\n",
       "      <td>1.306090</td>\n",
       "    </tr>\n",
       "    <tr>\n",
       "      <th>1</th>\n",
       "      <td>D. Cheryshev</td>\n",
       "      <td>29</td>\n",
       "      <td>73.935496</td>\n",
       "      <td>177.8</td>\n",
       "      <td>77</td>\n",
       "      <td>23.387806</td>\n",
       "      <td>1.840354</td>\n",
       "    </tr>\n",
       "    <tr>\n",
       "      <th>2</th>\n",
       "      <td>Y. Belhanda</td>\n",
       "      <td>30</td>\n",
       "      <td>74.842680</td>\n",
       "      <td>177.8</td>\n",
       "      <td>78</td>\n",
       "      <td>23.674773</td>\n",
       "      <td>2.153942</td>\n",
       "    </tr>\n",
       "  </tbody>\n",
       "</table>\n",
       "</div>"
      ],
      "text/plain": [
       "              Name  Age     Weight  Height  Overall        BMI  Normality\n",
       "0   Manu Trigueros   28  74.842680   177.8       78  23.674773   1.306090\n",
       "1     D. Cheryshev   29  73.935496   177.8       77  23.387806   1.840354\n",
       "2      Y. Belhanda   30  74.842680   177.8       78  23.674773   2.153942"
      ]
     },
     "execution_count": 116,
     "metadata": {},
     "output_type": "execute_result"
    }
   ],
   "source": [
    "import pandas as pd\n",
    "import numpy as np\n",
    "\n",
    "\n",
    "def process(df):\n",
    "    data = pd.read_csv(df)\n",
    "    data = data[['Name', 'Age', 'Weight', 'Height', 'Overall']].copy()\n",
    "    \n",
    "    data['Weight'] = data['Weight'].str.replace('lbs', '')\n",
    "    data['Weight'] = data['Weight'].astype('float') * 0.453592\n",
    "    \n",
    "    data['Height'] = data['Height'].str.replace(\"'\", \"\")\n",
    "    data['feet'] = data['Height'].str[0].astype(int)\n",
    "    data['inches'] = data['Height'].str[1:3].astype(int)\n",
    "    data['Height'] = data['feet'] * 30.48 + data['inches'] * 2.54\n",
    "    data = data.drop(columns=['feet', 'inches'])\n",
    "    \n",
    "    data['BMI'] = data['Weight']/((data['Height']/100)** 2)\n",
    "    \n",
    "    cols = [ 'Age', 'Weight', 'Height', 'Overall', 'BMI']\n",
    "    means = data[cols].mean()\n",
    "    \n",
    "    for col in cols:\n",
    "        data[f'{col}_otkl'] = (data[col] - means[col]) ** 2\n",
    "    \n",
    "    dc = [f'{col}_otkl' for col in cols]\n",
    "    data['Normality'] = np.sqrt(data[dc].sum(axis=1))\n",
    "    \n",
    "    data = data.drop(columns=dc)\n",
    "    \n",
    "    data = data.sort_values('Normality')\n",
    "    \n",
    "    return data.head(3).reset_index(drop=True)"
   ]
  }
 ],
 "metadata": {
  "kernelspec": {
   "display_name": "Python 3 (ipykernel)",
   "language": "python",
   "name": "python3"
  },
  "language_info": {
   "codemirror_mode": {
    "name": "ipython",
    "version": 3
   },
   "file_extension": ".py",
   "mimetype": "text/x-python",
   "name": "python",
   "nbconvert_exporter": "python",
   "pygments_lexer": "ipython3",
   "version": "3.12.7"
  }
 },
 "nbformat": 4,
 "nbformat_minor": 5
}
