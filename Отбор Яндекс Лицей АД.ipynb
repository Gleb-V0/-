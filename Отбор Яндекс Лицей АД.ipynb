{
 "cells": [
  {
   "cell_type": "code",
   "execution_count": 37,
   "id": "3b30ace3-9702-4edf-a279-9d62f28b92c1",
   "metadata": {},
   "outputs": [
    {
     "ename": "ValueError",
     "evalue": "max() iterable argument is empty",
     "output_type": "error",
     "traceback": [
      "\u001b[1;31m---------------------------------------------------------------------------\u001b[0m",
      "\u001b[1;31mValueError\u001b[0m                                Traceback (most recent call last)",
      "Cell \u001b[1;32mIn[37], line 4\u001b[0m\n\u001b[0;32m      2\u001b[0m     lines \u001b[38;5;241m=\u001b[39m f\u001b[38;5;241m.\u001b[39mreadlines()\n\u001b[0;32m      3\u001b[0m data \u001b[38;5;241m=\u001b[39m [\u001b[38;5;28mlist\u001b[39m(\u001b[38;5;28mmap\u001b[39m(\u001b[38;5;28mfloat\u001b[39m, line\u001b[38;5;241m.\u001b[39msplit())) \u001b[38;5;28;01mfor\u001b[39;00m line \u001b[38;5;129;01min\u001b[39;00m lines]\n\u001b[1;32m----> 4\u001b[0m maxl \u001b[38;5;241m=\u001b[39m \u001b[38;5;28mmax\u001b[39m(\u001b[38;5;28mlen\u001b[39m(row) \u001b[38;5;28;01mfor\u001b[39;00m row \u001b[38;5;129;01min\u001b[39;00m data)\n\u001b[0;32m      5\u001b[0m \u001b[38;5;28;01mfor\u001b[39;00m row \u001b[38;5;129;01min\u001b[39;00m data:\n\u001b[0;32m      6\u001b[0m     \u001b[38;5;28;01mwhile\u001b[39;00m \u001b[38;5;28mlen\u001b[39m(row) \u001b[38;5;241m<\u001b[39m maxl:\n",
      "\u001b[1;31mValueError\u001b[0m: max() iterable argument is empty"
     ]
    }
   ],
   "source": [
    "#Задача 1\n",
    "with open('data.txt', 'r') as f:\n",
    "    lines = f.readlines()\n",
    "data = [list(map(float, line.split())) for line in lines]\n",
    "maxl = max(len(row) for row in data)\n",
    "for row in data:\n",
    "    while len(row) < maxl:\n",
    "        row.append(-99.0)\n",
    "result = list(map(list, zip(*data)))\n",
    "print(result)"
   ]
  },
  {
   "cell_type": "code",
   "execution_count": 47,
   "id": "3cee2130-ff15-4dde-9a9b-025c2089c9d5",
   "metadata": {},
   "outputs": [
    {
     "name": "stdout",
     "output_type": "stream",
     "text": [
      "[('урожай', 4), ('в', 1), ('целом', 1)]\n"
     ]
    }
   ],
   "source": [
    "#Задача 2\n",
    "import re\n",
    "from collections import Counter\n",
    "with open('data.txt', 'r') as f:\n",
    "    text = f.readlines()\n",
    "text = text.lower()\n",
    "words = re.findall(r\"[-яё]+\", text)\n",
    "remove = [\"и\", \"был\", \"проходит\", \"хороший\", \"продолжается\", \"начался\", \"завершён\", \"превысил\", \"средний\", \"успешным\"]\n",
    "ntext = [x for x in words if x not in remove]\n",
    "ntext = ['урожай' if word == 'сбор' else word for word in ntext]\n",
    "word_counts = Counter(ntext)\n",
    "most_common_three = word_counts.most_common(3)\n",
    "print(most_common_three)"
   ]
  },
  {
   "cell_type": "code",
   "execution_count": null,
   "id": "e74bfe70-9d9d-47b6-b556-29d11f599dd0",
   "metadata": {},
   "outputs": [],
   "source": [
    "#Задача 3\n",
    "with open('data.txt', 'r', encoding='utf-8') as f:\n",
    "    lines = f.readlines()\n",
    "farmers = []\n",
    "yields = []\n",
    "for line in lines:\n",
    "    parts = line.strip().split()\n",
    "    name = parts[0]\n",
    "    age = int(parts[1])\n",
    "    yield_value = float(parts[2])\n",
    "    \n",
    "    if age < 32:\n",
    "        farmers.append(name)\n",
    "        yields.append(yield_value)\n",
    "\n",
    "selected_farmers.sort(key=lambda x: int(x.split('_')[1]))\n",
    "\n",
    "average_yield = round(sum(yields) / len(yields), 1) if yields else 0\n",
    "\n",
    "result = {\n",
    "    'список_фермеров': selected_farmers,\n",
    "    'средняя_урожайность': average_yield\n",
    "}\n",
    "\n",
    "print(result)"
   ]
  },
  {
   "cell_type": "code",
   "execution_count": 52,
   "id": "1b1c4a7c-c888-4a09-8f72-da59f4206172",
   "metadata": {},
   "outputs": [
    {
     "name": "stdout",
     "output_type": "stream",
     "text": [
      "[15, 14]\n"
     ]
    }
   ],
   "source": [
    "#Задача 4\n",
    "import re\n",
    "with open('data.txt', 'r') as f:\n",
    "    text = f.read()\n",
    "numbers = re.findall(r'\\d+', text)\n",
    "ntext = list(map(int, numbers))\n",
    "ntext = [i for i in ntext if i >= 13]\n",
    "ntext.sort(reverse=True)\n",
    "print(ntext)"
   ]
  }
 ],
 "metadata": {
  "kernelspec": {
   "display_name": "Python 3 (ipykernel)",
   "language": "python",
   "name": "python3"
  },
  "language_info": {
   "codemirror_mode": {
    "name": "ipython",
    "version": 3
   },
   "file_extension": ".py",
   "mimetype": "text/x-python",
   "name": "python",
   "nbconvert_exporter": "python",
   "pygments_lexer": "ipython3",
   "version": "3.12.7"
  }
 },
 "nbformat": 4,
 "nbformat_minor": 5
}
